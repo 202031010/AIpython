{
  "nbformat": 4,
  "nbformat_minor": 0,
  "metadata": {
    "colab": {
      "name": "방과후10_31010.ipynb",
      "provenance": [],
      "authorship_tag": "ABX9TyO9T07AZ4CX4qQxi2+GgVgP",
      "include_colab_link": true
    },
    "kernelspec": {
      "name": "python3",
      "display_name": "Python 3"
    }
  },
  "cells": [
    {
      "cell_type": "markdown",
      "metadata": {
        "id": "view-in-github",
        "colab_type": "text"
      },
      "source": [
        "<a href=\"https://colab.research.google.com/github/202031010/AIpython/blob/master/%EB%B0%A9%EA%B3%BC%ED%9B%8410_31010.ipynb\" target=\"_parent\"><img src=\"https://colab.research.google.com/assets/colab-badge.svg\" alt=\"Open In Colab\"/></a>"
      ]
    },
    {
      "cell_type": "markdown",
      "metadata": {
        "id": "2hdpVsfqAeho",
        "colab_type": "text"
      },
      "source": [
        "# Keras AI"
      ]
    },
    {
      "cell_type": "code",
      "metadata": {
        "id": "ik-F-oYQADIg",
        "colab_type": "code",
        "colab": {
          "base_uri": "https://localhost:8080/",
          "height": 35
        },
        "outputId": "88318843-f009-4da1-e59d-f157146b38d8"
      },
      "source": [
        "print(\"Hello github\")"
      ],
      "execution_count": 1,
      "outputs": [
        {
          "output_type": "stream",
          "text": [
            "Hello github\n"
          ],
          "name": "stdout"
        }
      ]
    }
  ]
}